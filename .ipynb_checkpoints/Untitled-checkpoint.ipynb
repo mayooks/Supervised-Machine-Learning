{
 "cells": [
  {
   "cell_type": "code",
   "execution_count": 2,
   "id": "0c93dab5",
   "metadata": {},
   "outputs": [],
   "source": [
    "import numpy as np\n",
    ">>> from sklearn.linear_model import LinearRegression\n",
    ">>> from sklearn.model_selection import train_test_split\n",
    "import pandas as pd"
   ]
  },
  {
   "cell_type": "code",
   "execution_count": null,
   "id": "bc5c9e70",
   "metadata": {},
   "outputs": [],
   "source": []
  },
  {
   "cell_type": "code",
   "execution_count": 3,
   "id": "7e3553e4",
   "metadata": {},
   "outputs": [],
   "source": [
    "path = \"Resources/lending_data.csv\"\n",
    "#names = []\n",
    "dataset = pd.read_csv(path)"
   ]
  },
  {
   "cell_type": "code",
   "execution_count": 4,
   "id": "61740eb8",
   "metadata": {},
   "outputs": [],
   "source": [
    "#two x and y arrays\n",
    "x = \n",
    "y = np.array([5, 12, 11, 19, 30, 29, 23, 40, 51, 54, 74,\n",
    "              62, 68, 73, 89, 84, 89, 101, 99, 106])"
   ]
  },
  {
   "cell_type": "code",
   "execution_count": 6,
   "id": "f6d16fb1",
   "metadata": {},
   "outputs": [
    {
     "data": {
      "text/plain": [
       "(array([[ 0],\n",
       "        [ 1],\n",
       "        [ 2],\n",
       "        [ 3],\n",
       "        [ 4],\n",
       "        [ 5],\n",
       "        [ 6],\n",
       "        [ 7],\n",
       "        [ 8],\n",
       "        [ 9],\n",
       "        [10],\n",
       "        [11],\n",
       "        [12],\n",
       "        [13],\n",
       "        [14],\n",
       "        [15],\n",
       "        [16],\n",
       "        [17],\n",
       "        [18],\n",
       "        [19]]),\n",
       " array([  5,  12,  11,  19,  30,  29,  23,  40,  51,  54,  74,  62,  68,\n",
       "         73,  89,  84,  89, 101,  99, 106]))"
      ]
     },
     "execution_count": 6,
     "metadata": {},
     "output_type": "execute_result"
    }
   ],
   "source": [
    "x, y"
   ]
  },
  {
   "cell_type": "code",
   "execution_count": 7,
   "id": "0f2d39ad",
   "metadata": {},
   "outputs": [],
   "source": [
    "#specify size of test\n",
    "x_train, x_test, y_train, y_test = train_test_split(x, y, \n",
    "                                                    test_size=8, \n",
    "                                                    random_state=0)"
   ]
  },
  {
   "cell_type": "code",
   "execution_count": 8,
   "id": "1af2882b",
   "metadata": {},
   "outputs": [
    {
     "data": {
      "text/plain": [
       "array([[18],\n",
       "       [ 1],\n",
       "       [19],\n",
       "       [ 8],\n",
       "       [10],\n",
       "       [17],\n",
       "       [ 6],\n",
       "       [13]])"
      ]
     },
     "execution_count": 8,
     "metadata": {},
     "output_type": "execute_result"
    }
   ],
   "source": [
    "x_test"
   ]
  },
  {
   "cell_type": "code",
   "execution_count": 12,
   "id": "293cbdd5",
   "metadata": {},
   "outputs": [],
   "source": [
    "#train model\n",
    "model = LinearRegression().fit(x_train, y_train)"
   ]
  },
  {
   "cell_type": "code",
   "execution_count": 13,
   "id": "66f8c88f",
   "metadata": {},
   "outputs": [
    {
     "data": {
      "text/plain": [
       "3.1617195496417523"
      ]
     },
     "execution_count": 13,
     "metadata": {},
     "output_type": "execute_result"
    }
   ],
   "source": [
    "model.intercept_"
   ]
  },
  {
   "cell_type": "code",
   "execution_count": 14,
   "id": "0c3286aa",
   "metadata": {},
   "outputs": [
    {
     "data": {
      "text/plain": [
       "array([5.53121801])"
      ]
     },
     "execution_count": 14,
     "metadata": {},
     "output_type": "execute_result"
    }
   ],
   "source": [
    "model.coef_"
   ]
  },
  {
   "cell_type": "markdown",
   "id": "29336f5a",
   "metadata": {},
   "source": [
    "LinearRegression creates the object that represents the model, \n",
    "while .fit() trains, or fits, the model and returns it. \n",
    "With linear regression, fitting the model means determining the best \n",
    "intercept (model.intercept_) and slope (model.coef_) \n",
    "values of the regression line.\n",
    "\n",
    "Although you can use x_train and y_train to check the goodness of fit, \n",
    "this isn’t a best practice. An unbiased estimation of the predictive performance of your model \n",
    "is based on test data:"
   ]
  },
  {
   "cell_type": "code",
   "execution_count": 15,
   "id": "d1b1ba78",
   "metadata": {},
   "outputs": [
    {
     "data": {
      "text/plain": [
       "0.9868175024574795"
      ]
     },
     "execution_count": 15,
     "metadata": {},
     "output_type": "execute_result"
    }
   ],
   "source": [
    "model.score(x_train, y_train),"
   ]
  },
  {
   "cell_type": "code",
   "execution_count": 16,
   "id": "e8942f0e",
   "metadata": {},
   "outputs": [
    {
     "data": {
      "text/plain": [
       "0.9465896927715023"
      ]
     },
     "execution_count": 16,
     "metadata": {},
     "output_type": "execute_result"
    }
   ],
   "source": [
    "model.score(x_test, y_test)"
   ]
  },
  {
   "cell_type": "code",
   "execution_count": null,
   "id": "61d81507",
   "metadata": {},
   "outputs": [],
   "source": []
  }
 ],
 "metadata": {
  "kernelspec": {
   "display_name": "Python [conda env:PythonData]",
   "language": "python",
   "name": "conda-env-PythonData-py"
  },
  "language_info": {
   "codemirror_mode": {
    "name": "ipython",
    "version": 3
   },
   "file_extension": ".py",
   "mimetype": "text/x-python",
   "name": "python",
   "nbconvert_exporter": "python",
   "pygments_lexer": "ipython3",
   "version": "3.7.11"
  }
 },
 "nbformat": 4,
 "nbformat_minor": 5
}
